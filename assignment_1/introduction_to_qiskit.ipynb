{
  "nbformat": 4,
  "nbformat_minor": 0,
  "metadata": {
    "colab": {
      "provenance": [],
      "authorship_tag": "ABX9TyOq39VPAg4L/dvOOp/PFwP/",
      "include_colab_link": true
    },
    "kernelspec": {
      "name": "python3",
      "display_name": "Python 3"
    },
    "language_info": {
      "name": "python"
    }
  },
  "cells": [
    {
      "cell_type": "markdown",
      "metadata": {
        "id": "view-in-github",
        "colab_type": "text"
      },
      "source": [
        "<a href=\"https://colab.research.google.com/github/joseluisfalla/QA_JFALLA/blob/main/assignment_1/introduction_to_qiskit.ipynb\" target=\"_parent\"><img src=\"https://colab.research.google.com/assets/colab-badge.svg\" alt=\"Open In Colab\"/></a>"
      ]
    },
    {
      "cell_type": "code",
      "execution_count": 2,
      "metadata": {
        "colab": {
          "base_uri": "https://localhost:8080/"
        },
        "id": "fnZmlHfaekOb",
        "outputId": "30d9e6ed-f3b9-486f-99ee-97999d7da315"
      },
      "outputs": [
        {
          "output_type": "stream",
          "name": "stdout",
          "text": [
            "Collecting qiskit\n",
            "  Downloading qiskit-1.3.2-cp39-abi3-manylinux_2_17_x86_64.manylinux2014_x86_64.whl.metadata (12 kB)\n",
            "Collecting rustworkx>=0.15.0 (from qiskit)\n",
            "  Downloading rustworkx-0.16.0-cp39-abi3-manylinux_2_17_x86_64.manylinux2014_x86_64.whl.metadata (10 kB)\n",
            "Requirement already satisfied: numpy<3,>=1.17 in /usr/local/lib/python3.11/dist-packages (from qiskit) (1.26.4)\n",
            "Requirement already satisfied: scipy>=1.5 in /usr/local/lib/python3.11/dist-packages (from qiskit) (1.13.1)\n",
            "Requirement already satisfied: sympy>=1.3 in /usr/local/lib/python3.11/dist-packages (from qiskit) (1.13.1)\n",
            "Collecting dill>=0.3 (from qiskit)\n",
            "  Downloading dill-0.3.9-py3-none-any.whl.metadata (10 kB)\n",
            "Requirement already satisfied: python-dateutil>=2.8.0 in /usr/local/lib/python3.11/dist-packages (from qiskit) (2.8.2)\n",
            "Collecting stevedore>=3.0.0 (from qiskit)\n",
            "  Downloading stevedore-5.4.0-py3-none-any.whl.metadata (2.3 kB)\n",
            "Requirement already satisfied: typing-extensions in /usr/local/lib/python3.11/dist-packages (from qiskit) (4.12.2)\n",
            "Collecting symengine<0.14,>=0.11 (from qiskit)\n",
            "  Downloading symengine-0.13.0-cp311-cp311-manylinux_2_17_x86_64.manylinux2014_x86_64.whl.metadata (1.2 kB)\n",
            "Requirement already satisfied: six>=1.5 in /usr/local/lib/python3.11/dist-packages (from python-dateutil>=2.8.0->qiskit) (1.17.0)\n",
            "Collecting pbr>=2.0.0 (from stevedore>=3.0.0->qiskit)\n",
            "  Downloading pbr-6.1.1-py2.py3-none-any.whl.metadata (3.4 kB)\n",
            "Requirement already satisfied: mpmath<1.4,>=1.1.0 in /usr/local/lib/python3.11/dist-packages (from sympy>=1.3->qiskit) (1.3.0)\n",
            "Requirement already satisfied: setuptools in /usr/local/lib/python3.11/dist-packages (from pbr>=2.0.0->stevedore>=3.0.0->qiskit) (75.1.0)\n",
            "Downloading qiskit-1.3.2-cp39-abi3-manylinux_2_17_x86_64.manylinux2014_x86_64.whl (6.8 MB)\n",
            "\u001b[2K   \u001b[90m━━━━━━━━━━━━━━━━━━━━━━━━━━━━━━━━━━━━━━━━\u001b[0m \u001b[32m6.8/6.8 MB\u001b[0m \u001b[31m51.0 MB/s\u001b[0m eta \u001b[36m0:00:00\u001b[0m\n",
            "\u001b[?25hDownloading dill-0.3.9-py3-none-any.whl (119 kB)\n",
            "\u001b[2K   \u001b[90m━━━━━━━━━━━━━━━━━━━━━━━━━━━━━━━━━━━━━━━━\u001b[0m \u001b[32m119.4/119.4 kB\u001b[0m \u001b[31m1.7 MB/s\u001b[0m eta \u001b[36m0:00:00\u001b[0m\n",
            "\u001b[?25hDownloading rustworkx-0.16.0-cp39-abi3-manylinux_2_17_x86_64.manylinux2014_x86_64.whl (2.1 MB)\n",
            "\u001b[2K   \u001b[90m━━━━━━━━━━━━━━━━━━━━━━━━━━━━━━━━━━━━━━━━\u001b[0m \u001b[32m2.1/2.1 MB\u001b[0m \u001b[31m84.0 MB/s\u001b[0m eta \u001b[36m0:00:00\u001b[0m\n",
            "\u001b[?25hDownloading stevedore-5.4.0-py3-none-any.whl (49 kB)\n",
            "\u001b[2K   \u001b[90m━━━━━━━━━━━━━━━━━━━━━━━━━━━━━━━━━━━━━━━━\u001b[0m \u001b[32m49.5/49.5 kB\u001b[0m \u001b[31m3.9 MB/s\u001b[0m eta \u001b[36m0:00:00\u001b[0m\n",
            "\u001b[?25hDownloading symengine-0.13.0-cp311-cp311-manylinux_2_17_x86_64.manylinux2014_x86_64.whl (49.7 MB)\n",
            "\u001b[2K   \u001b[90m━━━━━━━━━━━━━━━━━━━━━━━━━━━━━━━━━━━━━━━━\u001b[0m \u001b[32m49.7/49.7 MB\u001b[0m \u001b[31m16.7 MB/s\u001b[0m eta \u001b[36m0:00:00\u001b[0m\n",
            "\u001b[?25hDownloading pbr-6.1.1-py2.py3-none-any.whl (108 kB)\n",
            "\u001b[2K   \u001b[90m━━━━━━━━━━━━━━━━━━━━━━━━━━━━━━━━━━━━━━━━\u001b[0m \u001b[32m109.0/109.0 kB\u001b[0m \u001b[31m5.4 MB/s\u001b[0m eta \u001b[36m0:00:00\u001b[0m\n",
            "\u001b[?25hInstalling collected packages: symengine, rustworkx, pbr, dill, stevedore, qiskit\n",
            "Successfully installed dill-0.3.9 pbr-6.1.1 qiskit-1.3.2 rustworkx-0.16.0 stevedore-5.4.0 symengine-0.13.0\n"
          ]
        }
      ],
      "source": [
        "# First of all, we need to make sure we install the Qiskit library on our Jupyter notebook before we can begin.\n",
        "# You can use the syntax %pip install <library> to install libraries on your Jupyter environment.\n",
        "!pip install qiskit"
      ]
    },
    {
      "cell_type": "code",
      "source": [
        "# Now, throughout this course, we'll be using simulators to run our circuits.\n",
        "# It doesn't really make sense to use real quantum hardware, as the queuing times are inconvenient.\n",
        "# For our simulations, we'll be using qiskit-aer, a package for quantum computing simulators\n",
        "# with realistic noise models that provides different simulation methods.\n",
        "!pip install qiskit_aer\n",
        "%pip install pylatexenc"
      ],
      "metadata": {
        "colab": {
          "base_uri": "https://localhost:8080/"
        },
        "id": "80sgRrXdmhOP",
        "outputId": "d0bce57a-26bb-4a06-809d-e89fc1770507"
      },
      "execution_count": 3,
      "outputs": [
        {
          "output_type": "stream",
          "name": "stdout",
          "text": [
            "Collecting qiskit_aer\n",
            "  Downloading qiskit_aer-0.16.1-cp311-cp311-manylinux_2_17_x86_64.manylinux2014_x86_64.whl.metadata (8.2 kB)\n",
            "Requirement already satisfied: qiskit>=1.1.0 in /usr/local/lib/python3.11/dist-packages (from qiskit_aer) (1.3.2)\n",
            "Requirement already satisfied: numpy>=1.16.3 in /usr/local/lib/python3.11/dist-packages (from qiskit_aer) (1.26.4)\n",
            "Requirement already satisfied: scipy>=1.0 in /usr/local/lib/python3.11/dist-packages (from qiskit_aer) (1.13.1)\n",
            "Requirement already satisfied: psutil>=5 in /usr/local/lib/python3.11/dist-packages (from qiskit_aer) (5.9.5)\n",
            "Requirement already satisfied: rustworkx>=0.15.0 in /usr/local/lib/python3.11/dist-packages (from qiskit>=1.1.0->qiskit_aer) (0.16.0)\n",
            "Requirement already satisfied: sympy>=1.3 in /usr/local/lib/python3.11/dist-packages (from qiskit>=1.1.0->qiskit_aer) (1.13.1)\n",
            "Requirement already satisfied: dill>=0.3 in /usr/local/lib/python3.11/dist-packages (from qiskit>=1.1.0->qiskit_aer) (0.3.9)\n",
            "Requirement already satisfied: python-dateutil>=2.8.0 in /usr/local/lib/python3.11/dist-packages (from qiskit>=1.1.0->qiskit_aer) (2.8.2)\n",
            "Requirement already satisfied: stevedore>=3.0.0 in /usr/local/lib/python3.11/dist-packages (from qiskit>=1.1.0->qiskit_aer) (5.4.0)\n",
            "Requirement already satisfied: typing-extensions in /usr/local/lib/python3.11/dist-packages (from qiskit>=1.1.0->qiskit_aer) (4.12.2)\n",
            "Requirement already satisfied: symengine<0.14,>=0.11 in /usr/local/lib/python3.11/dist-packages (from qiskit>=1.1.0->qiskit_aer) (0.13.0)\n",
            "Requirement already satisfied: six>=1.5 in /usr/local/lib/python3.11/dist-packages (from python-dateutil>=2.8.0->qiskit>=1.1.0->qiskit_aer) (1.17.0)\n",
            "Requirement already satisfied: pbr>=2.0.0 in /usr/local/lib/python3.11/dist-packages (from stevedore>=3.0.0->qiskit>=1.1.0->qiskit_aer) (6.1.1)\n",
            "Requirement already satisfied: mpmath<1.4,>=1.1.0 in /usr/local/lib/python3.11/dist-packages (from sympy>=1.3->qiskit>=1.1.0->qiskit_aer) (1.3.0)\n",
            "Requirement already satisfied: setuptools in /usr/local/lib/python3.11/dist-packages (from pbr>=2.0.0->stevedore>=3.0.0->qiskit>=1.1.0->qiskit_aer) (75.1.0)\n",
            "Downloading qiskit_aer-0.16.1-cp311-cp311-manylinux_2_17_x86_64.manylinux2014_x86_64.whl (12.4 MB)\n",
            "\u001b[2K   \u001b[90m━━━━━━━━━━━━━━━━━━━━━━━━━━━━━━━━━━━━━━━━\u001b[0m \u001b[32m12.4/12.4 MB\u001b[0m \u001b[31m21.5 MB/s\u001b[0m eta \u001b[36m0:00:00\u001b[0m\n",
            "\u001b[?25hInstalling collected packages: qiskit_aer\n",
            "Successfully installed qiskit_aer-0.16.1\n",
            "Collecting pylatexenc\n",
            "  Downloading pylatexenc-2.10.tar.gz (162 kB)\n",
            "\u001b[2K     \u001b[90m━━━━━━━━━━━━━━━━━━━━━━━━━━━━━━━━━━━━━━━━\u001b[0m \u001b[32m162.6/162.6 kB\u001b[0m \u001b[31m3.9 MB/s\u001b[0m eta \u001b[36m0:00:00\u001b[0m\n",
            "\u001b[?25h  Preparing metadata (setup.py) ... \u001b[?25l\u001b[?25hdone\n",
            "Building wheels for collected packages: pylatexenc\n",
            "  Building wheel for pylatexenc (setup.py) ... \u001b[?25l\u001b[?25hdone\n",
            "  Created wheel for pylatexenc: filename=pylatexenc-2.10-py3-none-any.whl size=136816 sha256=e31d3a4c56fd48a6a50dcffdbfe4aa795cbbd529be47f621202b436792535239\n",
            "  Stored in directory: /root/.cache/pip/wheels/b1/7a/33/9fdd892f784ed4afda62b685ae3703adf4c91aa0f524c28f03\n",
            "Successfully built pylatexenc\n",
            "Installing collected packages: pylatexenc\n",
            "Successfully installed pylatexenc-2.10\n"
          ]
        }
      ]
    },
    {
      "cell_type": "markdown",
      "source": [
        "Note that the way I've installed these libraries is in violation to PEP8 standards. All installations and imports (to follow) should be placed in the same block of code."
      ],
      "metadata": {
        "id": "pCSQegiXovFG"
      }
    },
    {
      "cell_type": "code",
      "source": [
        "# Now that we've downloaded the libraries, we can import them (along with some other useful ones) into our notebook.\n",
        "import numpy as np\n",
        "from matplotlib import pyplot as plt\n",
        "from qiskit import QuantumCircuit, transpile\n",
        "from qiskit.visualization import plot_histogram\n",
        "from qiskit_aer import Aer"
      ],
      "metadata": {
        "id": "XnBcZir8opko"
      },
      "execution_count": 4,
      "outputs": []
    },
    {
      "cell_type": "code",
      "source": [
        "# In the natural order of things, we begin by defining (instantiating) our circuit.\n",
        "qc = QuantumCircuit(4) # A quantum circuit with 4 qubits. This circuit only contains a quantum register; we'll eventually work with circuits with classical registers."
      ],
      "metadata": {
        "id": "2ljO43izqVla"
      },
      "execution_count": 5,
      "outputs": []
    },
    {
      "cell_type": "markdown",
      "source": [
        "Useful tip: if you forget what the input for any function is and you don't want to go digging in the documentation, you can always use the syntax *function?*, and a help bar with appear on the left-hand side with information about the function's attributes (try it out below)."
      ],
      "metadata": {
        "id": "X6DUnsXcu6Lk"
      }
    },
    {
      "cell_type": "code",
      "source": [
        "QuantumCircuit?"
      ],
      "metadata": {
        "id": "0LywU3Yyu5Pt"
      },
      "execution_count": null,
      "outputs": []
    },
    {
      "cell_type": "code",
      "source": [
        "# Qiskit allows us to visualize our circuit (that's why we needed to install pylatexenc--see installs)\n",
        "qc.draw('mpl')"
      ],
      "metadata": {
        "colab": {
          "base_uri": "https://localhost:8080/",
          "height": 320
        },
        "id": "I25SOCJevFFp",
        "outputId": "45e79602-297b-4796-fbbc-50f6e199192e"
      },
      "execution_count": null,
      "outputs": [
        {
          "output_type": "execute_result",
          "data": {
            "text/plain": [
              "<Figure size 162.08x367.889 with 1 Axes>"
            ],
            "image/png": "[encoded data removed]"
          },
          "metadata": {},
          "execution_count": 6
        }
      ]
    },
    {
      "cell_type": "markdown",
      "source": [
        "Fig 1. Visualization of a Qiskit circuit composed of a 4-qubit register. By default, all qubits are initialized to the computational state |0>."
      ],
      "metadata": {
        "id": "MEwcvtcl4KaD"
      }
    },
    {
      "cell_type": "markdown",
      "source": [
        "*NB. Here's an example of how all figures should be captioned in your notebook.*"
      ],
      "metadata": {
        "id": "FTQK1_Wz4c5D"
      }
    },
    {
      "cell_type": "code",
      "source": [
        "# We can act on these qubits with a series of quantum gates now. We'll use some well-known single-qubit gates: The Hadamard gate and the X, Z Pauli gates.\n",
        "# We can go about this a couple of ways.\n",
        "# First way:\n",
        "from qiskit.circuit.library import HGate, XGate, ZGate\n",
        "hadamard_gate = HGate()\n",
        "x_gate = XGate()\n",
        "z_gate = ZGate()\n",
        "\n",
        "qc = QuantumCircuit(4)\n",
        "\n",
        "qc.append(hadamard_gate, [0]) # with qc.append() the first input is the gate you wish to apply, and the second input is the qubits you want to act on.\n",
        "qc.append(x_gate, [1])\n",
        "qc.append(x_gate, [2])\n",
        "qc.append(z_gate, [3])\n",
        "\n",
        "# Visualize the circuit now\n",
        "qc.draw('mpl')"
      ],
      "metadata": {
        "colab": {
          "base_uri": "https://localhost:8080/",
          "height": 320
        },
        "id": "Pi4LGtyJxZD1",
        "outputId": "291fc96e-2b7b-4612-f98c-f13f541362b1"
      },
      "execution_count": null,
      "outputs": [
        {
          "output_type": "execute_result",
          "data": {
            "text/plain": [
              "<Figure size 203.885x367.889 with 1 Axes>"
            ],
            "image/png": "[encoded data removed]"
          },
          "metadata": {},
          "execution_count": 6
        }
      ]
    },
    {
      "cell_type": "markdown",
      "source": [
        "### The Hadamard Gate\n",
        "\n",
        "Even though you haven't seen the Hadamard gate in lecture yet, it is one of the most widely used single-qubits gates. The purpose of the Hadamard gate is to create superposition (a very important quantum resource). Another way to think about the Hadamard gate is as a gate that changes basis from the $$|0\\rangle, |1\\rangle$$ basis to the $$|+\\rangle, |-\\rangle$$ basis, and vice-versa. The matrix representation of this gate is\n",
        "$$H = \\frac{1}{\\sqrt{2}}\\begin{pmatrix}\n",
        "                  1 & 1\\\\\n",
        "                  1 & -1\n",
        "\\end{pmatrix}$$\n",
        "\n",
        "\n",
        "\n",
        " In the computational basis (i.e. |0>, |1> basis), this gate acts as follows:\n",
        "\n",
        "$$H|0\\rangle = \\frac{|0\\rangle + |1\\rangle}{\\sqrt{2}} = |+\\rangle$$\n",
        "$$H|1\\rangle = \\frac{|0\\rangle - |1\\rangle}{\\sqrt{2}} = |-\\rangle$$\n",
        "\n",
        "You can find more information about the Hadamard gate on Qiskit [here](https://docs.quantum.ibm.com/api/qiskit/qiskit.circuit.library.HGate)."
      ],
      "metadata": {
        "id": "6LEyOD0Xud0N"
      }
    },
    {
      "cell_type": "code",
      "source": [
        "# Here's the second way to do it (which I personally prefer, you'll see why).\n",
        "qc = QuantumCircuit(4)\n",
        "\n",
        "qc.h(0)\n",
        "qc.x(1)\n",
        "qc.x(2)\n",
        "qc.z(3)\n",
        "\n",
        "qc.draw('mpl')"
      ],
      "metadata": {
        "colab": {
          "base_uri": "https://localhost:8080/",
          "height": 320
        },
        "id": "ztUbDIpl0lCA",
        "outputId": "c9660700-7e2e-4608-9ee7-b265853026dd"
      },
      "execution_count": null,
      "outputs": [
        {
          "output_type": "execute_result",
          "data": {
            "text/plain": [
              "<Figure size 203.885x367.889 with 1 Axes>"
            ],
            "image/png": "[encoded data removed]"
          },
          "metadata": {},
          "execution_count": 7
        }
      ]
    },
    {
      "cell_type": "markdown",
      "source": [
        "As you can see, both methods give us the same circuit. Qiskit's circuit library is quite extensive, [here](https://docs.quantum.ibm.com/guides/circuit-library) you can find a comprehensive list of the quantum gates at your disposal, including two- and multi-qubit gates."
      ],
      "metadata": {
        "id": "Fvr0oH5d33g4"
      }
    },
    {
      "cell_type": "code",
      "source": [
        "# Usually, after constructing our circuit, we'll want to run it and look at the results.\n",
        "# Before we can run the circuit though, we have to specify our measurement.\n",
        "# There a couple of measurement methods. We'll take a look at both.\n",
        "\n",
        "# First, mesuring individual qubits. In order to measure individual qubits, we have to instantiate our circuit with both a classical and a quantum register.\n",
        "qc = QuantumCircuit(4, 4) # 4 qubits, 4 classical bits\n",
        "\n",
        "# Apply gates\n",
        "qc.h(0)\n",
        "qc.x(1)\n",
        "qc.x(2)\n",
        "qc.z(3)\n",
        "\n",
        "# Define measurement\n",
        "qc.measure(0, 0) # Measures qubit 0 and puts the result in bit 0\n",
        "qc.draw('mpl')"
      ],
      "metadata": {
        "colab": {
          "base_uri": "https://localhost:8080/",
          "height": 384
        },
        "id": "kd5ZiipK1f2-",
        "outputId": "80294e3e-b4bc-4654-e565-32c91defc2e8"
      },
      "execution_count": null,
      "outputs": [
        {
          "output_type": "execute_result",
          "data": {
            "text/plain": [
              "<Figure size 287.496x451.5 with 1 Axes>"
            ],
            "image/png": "[encoded data removed]"
          },
          "metadata": {},
          "execution_count": 8
        }
      ]
    },
    {
      "cell_type": "code",
      "source": [
        "# More often that not, we'll perform a measurement on all qubits\n",
        "qc = QuantumCircuit(4)\n",
        "\n",
        "# Apply gates\n",
        "qc.h(0)\n",
        "qc.x(1)\n",
        "qc.x(2)\n",
        "qc.z(3)\n",
        "\n",
        "# Define measurement\n",
        "qc.measure_all()\n",
        "qc.draw('mpl')"
      ],
      "metadata": {
        "colab": {
          "base_uri": "https://localhost:8080/",
          "height": 384
        },
        "id": "XspE9IWI6wZy",
        "outputId": "3147a0c7-c01c-4df2-ef5a-aefcd58fb8fc"
      },
      "execution_count": null,
      "outputs": [
        {
          "output_type": "execute_result",
          "data": {
            "text/plain": [
              "<Figure size 663.998x451.5 with 1 Axes>"
            ],
            "image/png": "[encoded data removed]"
          },
          "metadata": {},
          "execution_count": 16
        }
      ]
    },
    {
      "cell_type": "markdown",
      "source": [
        "Notice that for the measure_all() method it is not necessary to create a classical register when instatiating QuantumCircuit; Qiskit automatically creates a classical register with the same number of bits as qubits."
      ],
      "metadata": {
        "id": "XTxWrkD3AiQu"
      }
    },
    {
      "cell_type": "code",
      "source": [
        "# Now we're ready to define our simulator and run the circuit.\n",
        "# First, choose a backend:\n",
        "backend = Aer.get_backend('statevector_simulator')\n",
        "job = backend.run(transpile(qc, backend), shots=1024) # An intermediate transpilation step is needed to run the job. The number of shots refers to how many times we run the circuit.\n",
        "result = job.result() # Get the results"
      ],
      "metadata": {
        "id": "JOIFPU-cAgjc"
      },
      "execution_count": null,
      "outputs": []
    },
    {
      "cell_type": "markdown",
      "source": [
        "You can find a list of Aer simulator methods [here](https://qiskit.github.io/qiskit-aer/tutorials/1_aersimulator.html).\n",
        "Also, [here](https://docs.quantum.ibm.com/guides/transpile)'s a page that explains what transpilation is and why it is necessary."
      ],
      "metadata": {
        "id": "aVawesixBq-6"
      }
    },
    {
      "cell_type": "code",
      "source": [
        "# Let's look at the results.\n",
        "result"
      ],
      "metadata": {
        "colab": {
          "base_uri": "https://localhost:8080/"
        },
        "id": "0dZ06UaRBXw8",
        "outputId": "b80c48e9-a654-41d4-f276-b15d75b73deb"
      },
      "execution_count": null,
      "outputs": [
        {
          "output_type": "execute_result",
          "data": {
            "text/plain": [
              "Result(backend_name='statevector_simulator', backend_version='0.16.1', qobj_id='', job_id='1ca96b0d-87ee-435c-9d8e-1275eda7d67f', success=True, results=[ExperimentResult(shots=1024, success=True, meas_level=2, data=ExperimentResultData(counts={'0x7': 497, '0x6': 527}, statevector=Statevector([ 0.+0.j,  0.+0.j,  0.+0.j,  0.+0.j,  0.+0.j,  0.+0.j,  1.+0.j,\n",
              "              0.+0.j,  0.+0.j,  0.+0.j,  0.+0.j,  0.+0.j,  0.+0.j,  0.+0.j,\n",
              "             -0.+0.j, -0.+0.j],\n",
              "            dims=(2, 2, 2, 2))), header=QobjExperimentHeader(creg_sizes=[['meas', 4]], global_phase=0.0, memory_slots=4, n_qubits=4, name='circuit-167', qreg_sizes=[['q', 4]], metadata={}), status=DONE, seed_simulator=1286980308, metadata={'time_taken': 0.021976543, 'num_bind_params': 1, 'parallel_state_update': 1, 'required_memory_mb': 1, 'input_qubit_map': [[3, 3], [2, 2], [1, 1], [0, 0]], 'method': 'statevector', 'device': 'CPU', 'num_qubits': 4, 'active_input_qubits': [0, 1, 2, 3], 'num_clbits': 4, 'remapped_qubits': False, 'parallel_shots': 2, 'runtime_parameter_bind': False, 'max_memory_mb': 12978, 'noise': 'ideal', 'measure_sampling': False, 'batched_shots_optimization': False, 'result_types': {'statevector': 'save_statevector'}, 'result_subtypes': {'statevector': 'single'}, 'fusion': {'applied': False, 'max_fused_qubits': 5, 'threshold': 14, 'enabled': True}}, time_taken=0.021976543)], date=2025-02-11T00:35:02.202093, status=COMPLETED, header=None, metadata={'time_taken_parameter_binding': 2.4644e-05, 'time_taken_execute': 0.022066026, 'omp_enabled': True, 'max_gpu_memory_mb': 0, 'max_memory_mb': 12978, 'parallel_experiments': 1}, time_taken=0.02534651756286621)"
            ]
          },
          "metadata": {},
          "execution_count": 18
        }
      ]
    },
    {
      "cell_type": "markdown",
      "source": [
        "All the information about the run is here. When running quantum circuits, one of the things we want to look at is at the counts we get for each of the measurements. Let's look at that now."
      ],
      "metadata": {
        "id": "Ys52uzPgCyoR"
      }
    },
    {
      "cell_type": "code",
      "source": [
        "counts = result.get_counts()\n",
        "counts"
      ],
      "metadata": {
        "colab": {
          "base_uri": "https://localhost:8080/"
        },
        "id": "RqdkgDCbCnOC",
        "outputId": "0b8c1bf8-89d3-46ab-cbff-a2b317803fa0"
      },
      "execution_count": null,
      "outputs": [
        {
          "output_type": "execute_result",
          "data": {
            "text/plain": [
              "{'0111': 497, '0110': 527}"
            ]
          },
          "metadata": {},
          "execution_count": 24
        }
      ]
    },
    {
      "cell_type": "markdown",
      "source": [
        "Here we see that out of the 2^4 possible bitstrings, we only get counts for two bitstrings. Why is this?\n",
        "\n",
        "**Answer here in a few words.**"
      ],
      "metadata": {
        "id": "bw4sGj0hDX5e"
      }
    },
    {
      "cell_type": "code",
      "source": [
        "# Let's visualize these results\n",
        "plot_histogram(counts)"
      ],
      "metadata": {
        "colab": {
          "base_uri": "https://localhost:8080/",
          "height": 454
        },
        "id": "n8gScswYDN79",
        "outputId": "c6652aea-251b-450f-e63f-132fde72041f"
      },
      "execution_count": null,
      "outputs": [
        {
          "output_type": "execute_result",
          "data": {
            "text/plain": [
              "<Figure size 640x480 with 1 Axes>"
            ],
            "image/png": "[encoded data removed]"
          },
          "metadata": {},
          "execution_count": 25
        }
      ]
    },
    {
      "cell_type": "markdown",
      "source": [
        "Fig 2. Histogram of counts obtained from running our quantum circuit. The histogram shows the two possible outcomes of the circuit."
      ],
      "metadata": {
        "id": "xWtbzCT-aFhE"
      }
    },
    {
      "cell_type": "markdown",
      "source": [
        "*NB. While it is conventional to read bitstrings from left to right, the leftmost bit representing the measurement on qubit 0, Qiskit inverts this order. Therefore, when using Qiskit, the measurement of the first qubit corresponds to the rightmost bit, etc.*"
      ],
      "metadata": {
        "id": "2oXXGaxSaYcY"
      }
    },
    {
      "cell_type": "markdown",
      "source": [
        "## Now, let's play around with constructing circuits."
      ],
      "metadata": {
        "id": "xqeUsRwFe73R"
      }
    },
    {
      "cell_type": "markdown",
      "source": [
        "- First, construct a 4-qubit circuit and apply a set of **both single- and double-qubit gates**.\n",
        "- Now, choose a single qubit in the circuit to perform a measurement on. Plot a histogram with the results.\n",
        "- Perform now a measurement on all qubits. Plot a histogram of the results.\n",
        "- Is there agreement in the single qubit measurement when comparing that qubit when you measure all qubits? Why or why not?"
      ],
      "metadata": {
        "id": "8uo05XaefIrV"
      }
    },
    {
      "cell_type": "code",
      "source": [
        "# Your code here\n"
      ],
      "metadata": {
        "id": "7AdRN3F8D_jT"
      },
      "execution_count": null,
      "outputs": []
    },
    {
      "cell_type": "markdown",
      "source": [
        "## Measurements in Different Bases\n",
        "\n",
        "So far, we've only performed measurements in the computational basis. Let's look at what happens when we change the measurement basis."
      ],
      "metadata": {
        "id": "f7-jHySl8JkW"
      }
    },
    {
      "cell_type": "code",
      "source": [
        "# First, let's define our original circuit once again\n",
        "qc = QuantumCircuit(4)\n",
        "\n",
        "# Apply gates\n",
        "qc.h(0)\n",
        "qc.x(1)\n",
        "qc.x(2)\n",
        "qc.z(3)"
      ],
      "metadata": {
        "id": "4khzx3fK8Zl0",
        "outputId": "8d8aa0a8-782f-4954-8271-a6012cc0e655",
        "colab": {
          "base_uri": "https://localhost:8080/"
        }
      },
      "execution_count": 6,
      "outputs": [
        {
          "output_type": "execute_result",
          "data": {
            "text/plain": [
              "<qiskit.circuit.instructionset.InstructionSet at 0x786aa07117b0>"
            ]
          },
          "metadata": {},
          "execution_count": 6
        }
      ]
    },
    {
      "cell_type": "code",
      "source": [
        "# Even though it's not a very common basis, I'll perform a measurement in the y-basis (also referred to as the circlar basis).\n",
        "# For reference, the z-basis is commonly referred to as the computational basis, and the x-basis as the Hadamard basis.\n",
        "\n",
        "# In order to change basis, I first need to act on my qubits to change them to my desired basis prior to performing a measurment.\n",
        "# For the circular basis, we need to act with the S-adjoint gate, followed by the Hadamard gate.\n",
        "\n",
        "for i in range(4):\n",
        "  qc.sdg(i)\n",
        "  qc.h(i)\n",
        "\n",
        "# Now I can add the measurement\n",
        "qc.measure_all()\n",
        "qc.draw('mpl')"
      ],
      "metadata": {
        "id": "c6J0Pv4g8vKC",
        "outputId": "2702d24c-3897-4f1f-d359-cb3c4d5a5e23",
        "colab": {
          "base_uri": "https://localhost:8080/",
          "height": 384
        }
      },
      "execution_count": 7,
      "outputs": [
        {
          "output_type": "execute_result",
          "data": {
            "text/plain": [
              "<Figure size 831.22x451.5 with 1 Axes>"
            ],
            "image/png": "[encoded data removed]"
          },
          "metadata": {},
          "execution_count": 7
        }
      ]
    },
    {
      "cell_type": "markdown",
      "source": [
        "You can find more information about the S-adjoint gate [here](https://docs.quantum.ibm.com/api/qiskit/qiskit.circuit.library.SdgGate)."
      ],
      "metadata": {
        "id": "V8oYkB_f-DLf"
      }
    },
    {
      "cell_type": "code",
      "source": [
        "# Now let's run and visualize the results (if you already defined the backend previously, no need to do it again)\n",
        "backend = Aer.get_backend('statevector_simulator')\n",
        "job = backend.run(transpile(qc, backend), shots=1024)\n",
        "result = job.result()\n",
        "counts = result.get_counts()\n",
        "plot_histogram(counts)"
      ],
      "metadata": {
        "id": "6l978GsZ9_FT",
        "outputId": "cc13ff3d-f0ec-4103-961b-a0eeb8b7c9e6",
        "colab": {
          "base_uri": "https://localhost:8080/",
          "height": 454
        }
      },
      "execution_count": 9,
      "outputs": [
        {
          "output_type": "execute_result",
          "data": {
            "text/plain": [
              "<Figure size 640x480 with 1 Axes>"
            ],
            "image/png": "[encoded data removed]"
          },
          "metadata": {},
          "execution_count": 9
        }
      ]
    },
    {
      "cell_type": "markdown",
      "source": [
        "Fig 3. Resulting counts of running our quantum circuit and performing measurements in the circular basis. Now we see many more possible bitstrings arise under measurements in this new basis."
      ],
      "metadata": {
        "id": "ps1zn2mG-ow5"
      }
    },
    {
      "cell_type": "markdown",
      "source": [
        "## Performing measurements in the Hadamard basis\n",
        "\n",
        "- Create a random circuit (you can use one from the previous sections).\n",
        "- Measure all qubits in the Hadamard basis.\n",
        "- Now, go about it a different way: first, initialize your state in the Hadamard basis (Hint: make your initial state a uniform superposition state.)\n",
        "- Apply the same circuit to this superposition state as you did in the previous part.\n",
        "- Now measure in the computational basis.\n",
        "- Plot the histograms side by side for these two cases. Explain what you see."
      ],
      "metadata": {
        "id": "RLu-n6q0_DKS"
      }
    },
    {
      "cell_type": "code",
      "source": [
        "# Your code here\n"
      ],
      "metadata": {
        "id": "78tUg0Oj-ezc"
      },
      "execution_count": null,
      "outputs": []
    }
  ]
}